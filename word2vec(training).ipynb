{
 "cells": [
  {
   "cell_type": "markdown",
   "metadata": {},
   "source": [
    "# Training word2vec"
   ]
  },
  {
   "cell_type": "markdown",
   "metadata": {},
   "source": [
    "**Importing libraries**"
   ]
  },
  {
   "cell_type": "code",
   "execution_count": 18,
   "metadata": {},
   "outputs": [],
   "source": [
    "from gensim.models import Word2Vec,KeyedVectors\n",
    "from gensim.models.word2vec import LineSentence\n",
    "from sklearn.metrics.pairwise import cosine_similarity\n",
    "from numpy import dot\n",
    "from numpy.linalg import norm\n",
    "import warnings\n",
    "warnings.filterwarnings('ignore')\n",
    "import os\n",
    "os.environ[\"CUDA_DEVICE_ORDER\"]=\"PCI_BUS_ID\"\n",
    "os.environ[\"CUDA_VISIBLE_DEVICES\"]=\"4\""
   ]
  },
  {
   "cell_type": "markdown",
   "metadata": {},
   "source": [
    "**Text to train**"
   ]
  },
  {
   "cell_type": "code",
   "execution_count": 23,
   "metadata": {},
   "outputs": [],
   "source": [
    "documents = [\n",
    "     ['La','naranja','piña','y','manzana','son','frutas'],\n",
    "     ['Los','jugos','de','naranja',',','piña','y','manzana','son','exquisitos'],\n",
    "     ['El','jugo','de','naranja','o','zumo','de','naranja','es','un','jugo','de','frutas','en','forma','de','líquido','obtenido','de','exprimir','el','interior','de','las','naranjas'],\n",
    "     ['Uno','de','los','usos','culinarios','primordiales','es','como','refresco','aunque','es','muy','empleado','en','muchos','desayunos','del','mundo'],\n",
    "     ['En','Venezuela','se','conoce','como','jugo','de','naranja','a','la','naranjada',',','bebida','compuesta','de','dicho','zumo','en','una','concentración','de','60%','en','agua','y','azúcar'],\n",
    "     ['El','jugo','o','zumo','de','manzana','es','el','líquido','extraído','de','la','manzana','(','Malus','domestica',')'],\n",
    "     ['Se','trata','de','un','jugo','que','se','suele','manufacturar',',','envasar','y','comercializar'],\n",
    "     ['El','jugo','o','zumo','de','piña',',','también','conocido','como','jugo','de','ananá',',','es','el','líquido','extraído','de','la','pulpa','de','la','piña',',','una','fruta','tropical'],\n",
    "     ['El','jugo','de','piña','es','84%','de','agua',',','16%','de','carbohidratos','y','contiene','grasas','y','proteínas','insignificantes'],\n",
    "]"
   ]
  },
  {
   "cell_type": "markdown",
   "metadata": {},
   "source": [
    "**Skip-gram**"
   ]
  },
  {
   "cell_type": "code",
   "execution_count": 33,
   "metadata": {},
   "outputs": [
    {
     "data": {
      "text/plain": [
       "{'La': <gensim.models.keyedvectors.Vocab at 0x7f521c6ce090>,\n",
       " 'naranja': <gensim.models.keyedvectors.Vocab at 0x7f521c6ce0d0>,\n",
       " 'piña': <gensim.models.keyedvectors.Vocab at 0x7f521c6ce110>,\n",
       " 'y': <gensim.models.keyedvectors.Vocab at 0x7f521c6ce150>,\n",
       " 'manzana': <gensim.models.keyedvectors.Vocab at 0x7f521c6ce1d0>,\n",
       " 'son': <gensim.models.keyedvectors.Vocab at 0x7f521c6ce250>,\n",
       " 'frutas': <gensim.models.keyedvectors.Vocab at 0x7f521c6ce290>,\n",
       " 'Los': <gensim.models.keyedvectors.Vocab at 0x7f521c6ce2d0>,\n",
       " 'jugos': <gensim.models.keyedvectors.Vocab at 0x7f521c6ce190>,\n",
       " 'de': <gensim.models.keyedvectors.Vocab at 0x7f521c6ce210>,\n",
       " ',': <gensim.models.keyedvectors.Vocab at 0x7f521c6ce310>,\n",
       " 'exquisitos': <gensim.models.keyedvectors.Vocab at 0x7f521c6ce350>,\n",
       " 'El': <gensim.models.keyedvectors.Vocab at 0x7f521c6ce390>,\n",
       " 'jugo': <gensim.models.keyedvectors.Vocab at 0x7f521c6ce3d0>,\n",
       " 'o': <gensim.models.keyedvectors.Vocab at 0x7f521c6ce410>,\n",
       " 'zumo': <gensim.models.keyedvectors.Vocab at 0x7f521c6ce450>,\n",
       " 'es': <gensim.models.keyedvectors.Vocab at 0x7f521c6ce490>,\n",
       " 'un': <gensim.models.keyedvectors.Vocab at 0x7f521c6ce4d0>,\n",
       " 'en': <gensim.models.keyedvectors.Vocab at 0x7f521c6ce510>,\n",
       " 'forma': <gensim.models.keyedvectors.Vocab at 0x7f521c6ce550>,\n",
       " 'líquido': <gensim.models.keyedvectors.Vocab at 0x7f521c6ce590>,\n",
       " 'obtenido': <gensim.models.keyedvectors.Vocab at 0x7f521c6ce5d0>,\n",
       " 'exprimir': <gensim.models.keyedvectors.Vocab at 0x7f521c6ce610>,\n",
       " 'el': <gensim.models.keyedvectors.Vocab at 0x7f521c6ce650>,\n",
       " 'interior': <gensim.models.keyedvectors.Vocab at 0x7f521c6ce690>,\n",
       " 'las': <gensim.models.keyedvectors.Vocab at 0x7f521c6ce6d0>,\n",
       " 'naranjas': <gensim.models.keyedvectors.Vocab at 0x7f521c6ce710>,\n",
       " 'Uno': <gensim.models.keyedvectors.Vocab at 0x7f521c6ce750>,\n",
       " 'los': <gensim.models.keyedvectors.Vocab at 0x7f521c6ce790>,\n",
       " 'usos': <gensim.models.keyedvectors.Vocab at 0x7f521c6ce7d0>,\n",
       " 'culinarios': <gensim.models.keyedvectors.Vocab at 0x7f521c6ce810>,\n",
       " 'primordiales': <gensim.models.keyedvectors.Vocab at 0x7f521c6ce850>,\n",
       " 'como': <gensim.models.keyedvectors.Vocab at 0x7f521c6ce890>,\n",
       " 'refresco': <gensim.models.keyedvectors.Vocab at 0x7f521c6ce8d0>,\n",
       " 'aunque': <gensim.models.keyedvectors.Vocab at 0x7f521c6ce910>,\n",
       " 'muy': <gensim.models.keyedvectors.Vocab at 0x7f521c6ce950>,\n",
       " 'empleado': <gensim.models.keyedvectors.Vocab at 0x7f521c6ce990>,\n",
       " 'muchos': <gensim.models.keyedvectors.Vocab at 0x7f521c6ce9d0>,\n",
       " 'desayunos': <gensim.models.keyedvectors.Vocab at 0x7f521c6cea10>,\n",
       " 'del': <gensim.models.keyedvectors.Vocab at 0x7f521c6cea50>,\n",
       " 'mundo': <gensim.models.keyedvectors.Vocab at 0x7f521c6cea90>,\n",
       " 'En': <gensim.models.keyedvectors.Vocab at 0x7f521c6cead0>,\n",
       " 'Venezuela': <gensim.models.keyedvectors.Vocab at 0x7f521c6ceb10>,\n",
       " 'se': <gensim.models.keyedvectors.Vocab at 0x7f521c6ceb50>,\n",
       " 'conoce': <gensim.models.keyedvectors.Vocab at 0x7f521c6ceb90>,\n",
       " 'a': <gensim.models.keyedvectors.Vocab at 0x7f521c6cebd0>,\n",
       " 'la': <gensim.models.keyedvectors.Vocab at 0x7f521c6cec10>,\n",
       " 'naranjada': <gensim.models.keyedvectors.Vocab at 0x7f521c6cec50>,\n",
       " 'bebida': <gensim.models.keyedvectors.Vocab at 0x7f521c6cec90>,\n",
       " 'compuesta': <gensim.models.keyedvectors.Vocab at 0x7f521c6cecd0>,\n",
       " 'dicho': <gensim.models.keyedvectors.Vocab at 0x7f521c6ced10>,\n",
       " 'una': <gensim.models.keyedvectors.Vocab at 0x7f521c6ced50>,\n",
       " 'concentración': <gensim.models.keyedvectors.Vocab at 0x7f521c6ced90>,\n",
       " '60%': <gensim.models.keyedvectors.Vocab at 0x7f521c6cedd0>,\n",
       " 'agua': <gensim.models.keyedvectors.Vocab at 0x7f521c6cee10>,\n",
       " 'azúcar': <gensim.models.keyedvectors.Vocab at 0x7f521c6cee50>,\n",
       " 'extraído': <gensim.models.keyedvectors.Vocab at 0x7f521c6cee90>,\n",
       " '(': <gensim.models.keyedvectors.Vocab at 0x7f521c6ceed0>,\n",
       " 'Malus': <gensim.models.keyedvectors.Vocab at 0x7f521c6cef10>,\n",
       " 'domestica': <gensim.models.keyedvectors.Vocab at 0x7f521c6cef50>,\n",
       " ')': <gensim.models.keyedvectors.Vocab at 0x7f521c6cef90>,\n",
       " 'Se': <gensim.models.keyedvectors.Vocab at 0x7f521c6cefd0>,\n",
       " 'trata': <gensim.models.keyedvectors.Vocab at 0x7f521c6cf050>,\n",
       " 'que': <gensim.models.keyedvectors.Vocab at 0x7f521c6cf090>,\n",
       " 'suele': <gensim.models.keyedvectors.Vocab at 0x7f521c6cf0d0>,\n",
       " 'manufacturar': <gensim.models.keyedvectors.Vocab at 0x7f521c6cf110>,\n",
       " 'envasar': <gensim.models.keyedvectors.Vocab at 0x7f521c6cf150>,\n",
       " 'comercializar': <gensim.models.keyedvectors.Vocab at 0x7f521c6cf190>,\n",
       " 'también': <gensim.models.keyedvectors.Vocab at 0x7f521c6cf1d0>,\n",
       " 'conocido': <gensim.models.keyedvectors.Vocab at 0x7f521c6cf210>,\n",
       " 'ananá': <gensim.models.keyedvectors.Vocab at 0x7f521c6cf250>,\n",
       " 'pulpa': <gensim.models.keyedvectors.Vocab at 0x7f521c6cf290>,\n",
       " 'fruta': <gensim.models.keyedvectors.Vocab at 0x7f521c6cf2d0>,\n",
       " 'tropical': <gensim.models.keyedvectors.Vocab at 0x7f521c6cf310>,\n",
       " '84%': <gensim.models.keyedvectors.Vocab at 0x7f521c6cf350>,\n",
       " '16%': <gensim.models.keyedvectors.Vocab at 0x7f521c6cf390>,\n",
       " 'carbohidratos': <gensim.models.keyedvectors.Vocab at 0x7f521c6cf3d0>,\n",
       " 'contiene': <gensim.models.keyedvectors.Vocab at 0x7f521c6cf410>,\n",
       " 'grasas': <gensim.models.keyedvectors.Vocab at 0x7f521c6cf450>,\n",
       " 'proteínas': <gensim.models.keyedvectors.Vocab at 0x7f521c6cf490>,\n",
       " 'insignificantes': <gensim.models.keyedvectors.Vocab at 0x7f521c6cf4d0>}"
      ]
     },
     "execution_count": 33,
     "metadata": {},
     "output_type": "execute_result"
    }
   ],
   "source": [
    "params = {\n",
    "        'sentences':documents,\n",
    "        'size': 50,\n",
    "        'window': 5,\n",
    "        'min_count': 1,\n",
    "        'iter': 100,\n",
    "        'sg': 1,\n",
    "        'workers': 4\n",
    "    }\n",
    "\n",
    "word2vec = Word2Vec(**params)\n",
    "word2vec.wv.vocab"
   ]
  },
  {
   "cell_type": "code",
   "execution_count": 34,
   "metadata": {},
   "outputs": [
    {
     "name": "stderr",
     "output_type": "stream",
     "text": [
      "/home/juanluis/anaconda3/envs/jupyter/lib/python3.7/site-packages/ipykernel_launcher.py:1: DeprecationWarning: Call to deprecated `most_similar` (Method will be removed in 4.0.0, use self.wv.most_similar() instead).\n",
      "  \"\"\"Entry point for launching an IPython kernel.\n"
     ]
    },
    {
     "data": {
      "text/plain": [
       "[('de', 0.9990878105163574),\n",
       " ('la', 0.9990508556365967),\n",
       " ('un', 0.9989574551582336),\n",
       " (',', 0.9988932609558105),\n",
       " ('naranja', 0.9988489151000977)]"
      ]
     },
     "execution_count": 34,
     "metadata": {},
     "output_type": "execute_result"
    }
   ],
   "source": [
    "word2vec.most_similar(positive=['zumo'], topn=5)"
   ]
  },
  {
   "cell_type": "markdown",
   "metadata": {},
   "source": [
    "**Documents without stopwords**"
   ]
  },
  {
   "cell_type": "code",
   "execution_count": 35,
   "metadata": {},
   "outputs": [],
   "source": [
    "documents = [\n",
    "     ['naranja','piña','manzana','son','frutas'],\n",
    "     ['jugos','naranja','piña','manzana','son','exquisitos'],\n",
    "     ['jugo','naranja','zumo','naranja','es','jugo','frutas','forma','líquido','obtenido','exprimir','interior','naranjas'],\n",
    "     ['usos','culinarios','primordiales','es','refresco','empleado','desayunos','mundo'],\n",
    "     ['Venezuela','se','conoce','jugo','naranja','naranjada','bebida','compuesta','zumo','concentración','agua','azúcar'],\n",
    "     ['jugo','zumo','manzana','es','líquido','extraído','manzana','Malus','domestica'],\n",
    "     ['trata','jugo','suele','manufacturar','envasar','comercializar'],\n",
    "     ['jugo','zumo','piña','también','conocido','jugo','ananá','es','líquido','extraído','pulpa','piña','fruta','tropical'],\n",
    "     ['jugo','piña','es','agua','carbohidratos','contiene','grasas','proteínas','insignificantes'],\n",
    "]"
   ]
  },
  {
   "cell_type": "code",
   "execution_count": 36,
   "metadata": {},
   "outputs": [
    {
     "data": {
      "text/plain": [
       "{'naranja': <gensim.models.keyedvectors.Vocab at 0x7f521c6c2250>,\n",
       " 'piña': <gensim.models.keyedvectors.Vocab at 0x7f521c6c24d0>,\n",
       " 'manzana': <gensim.models.keyedvectors.Vocab at 0x7f521c6c2190>,\n",
       " 'son': <gensim.models.keyedvectors.Vocab at 0x7f521c6c2110>,\n",
       " 'frutas': <gensim.models.keyedvectors.Vocab at 0x7f521c6c2490>,\n",
       " 'jugos': <gensim.models.keyedvectors.Vocab at 0x7f521c6c2350>,\n",
       " 'exquisitos': <gensim.models.keyedvectors.Vocab at 0x7f521c6c23d0>,\n",
       " 'jugo': <gensim.models.keyedvectors.Vocab at 0x7f521c6c22d0>,\n",
       " 'zumo': <gensim.models.keyedvectors.Vocab at 0x7f521c6c2950>,\n",
       " 'es': <gensim.models.keyedvectors.Vocab at 0x7f521c6c2210>,\n",
       " 'forma': <gensim.models.keyedvectors.Vocab at 0x7f521c6c2910>,\n",
       " 'líquido': <gensim.models.keyedvectors.Vocab at 0x7f521c6c28d0>,\n",
       " 'obtenido': <gensim.models.keyedvectors.Vocab at 0x7f521c6c21d0>,\n",
       " 'exprimir': <gensim.models.keyedvectors.Vocab at 0x7f521c72e890>,\n",
       " 'interior': <gensim.models.keyedvectors.Vocab at 0x7f521c72e5d0>,\n",
       " 'naranjas': <gensim.models.keyedvectors.Vocab at 0x7f521c72e8d0>,\n",
       " 'usos': <gensim.models.keyedvectors.Vocab at 0x7f521c72eed0>,\n",
       " 'culinarios': <gensim.models.keyedvectors.Vocab at 0x7f521c72e690>,\n",
       " 'primordiales': <gensim.models.keyedvectors.Vocab at 0x7f521c72eb90>,\n",
       " 'refresco': <gensim.models.keyedvectors.Vocab at 0x7f521c72ed90>,\n",
       " 'empleado': <gensim.models.keyedvectors.Vocab at 0x7f521c72e210>,\n",
       " 'desayunos': <gensim.models.keyedvectors.Vocab at 0x7f521c72ea90>,\n",
       " 'mundo': <gensim.models.keyedvectors.Vocab at 0x7f521c72ea10>,\n",
       " 'Venezuela': <gensim.models.keyedvectors.Vocab at 0x7f521dfcb190>,\n",
       " 'se': <gensim.models.keyedvectors.Vocab at 0x7f521dfcb050>,\n",
       " 'conoce': <gensim.models.keyedvectors.Vocab at 0x7f521dfcbb10>,\n",
       " 'naranjada': <gensim.models.keyedvectors.Vocab at 0x7f521dfcb490>,\n",
       " 'bebida': <gensim.models.keyedvectors.Vocab at 0x7f521dfcbf10>,\n",
       " 'compuesta': <gensim.models.keyedvectors.Vocab at 0x7f521dfcb8d0>,\n",
       " 'concentración': <gensim.models.keyedvectors.Vocab at 0x7f521dfcb4d0>,\n",
       " 'agua': <gensim.models.keyedvectors.Vocab at 0x7f521dfcb7d0>,\n",
       " 'azúcar': <gensim.models.keyedvectors.Vocab at 0x7f521dfcb410>,\n",
       " 'extraído': <gensim.models.keyedvectors.Vocab at 0x7f521dfcbed0>,\n",
       " 'Malus': <gensim.models.keyedvectors.Vocab at 0x7f521dfcb2d0>,\n",
       " 'domestica': <gensim.models.keyedvectors.Vocab at 0x7f521dfcbcd0>,\n",
       " 'trata': <gensim.models.keyedvectors.Vocab at 0x7f521c6c59d0>,\n",
       " 'suele': <gensim.models.keyedvectors.Vocab at 0x7f521c6c5e50>,\n",
       " 'manufacturar': <gensim.models.keyedvectors.Vocab at 0x7f521c6c5fd0>,\n",
       " 'envasar': <gensim.models.keyedvectors.Vocab at 0x7f521c6c5950>,\n",
       " 'comercializar': <gensim.models.keyedvectors.Vocab at 0x7f521c6c5d10>,\n",
       " 'también': <gensim.models.keyedvectors.Vocab at 0x7f521c6c5f50>,\n",
       " 'conocido': <gensim.models.keyedvectors.Vocab at 0x7f521c6c5990>,\n",
       " 'ananá': <gensim.models.keyedvectors.Vocab at 0x7f521c6c5c90>,\n",
       " 'pulpa': <gensim.models.keyedvectors.Vocab at 0x7f521c6c5d90>,\n",
       " 'fruta': <gensim.models.keyedvectors.Vocab at 0x7f521c6c5a10>,\n",
       " 'tropical': <gensim.models.keyedvectors.Vocab at 0x7f521c6c5d50>,\n",
       " 'carbohidratos': <gensim.models.keyedvectors.Vocab at 0x7f521c6c5c10>,\n",
       " 'contiene': <gensim.models.keyedvectors.Vocab at 0x7f521c6c5b90>,\n",
       " 'grasas': <gensim.models.keyedvectors.Vocab at 0x7f521c6c5ad0>,\n",
       " 'proteínas': <gensim.models.keyedvectors.Vocab at 0x7f521c6c5f90>,\n",
       " 'insignificantes': <gensim.models.keyedvectors.Vocab at 0x7f521c6c5e90>}"
      ]
     },
     "execution_count": 36,
     "metadata": {},
     "output_type": "execute_result"
    }
   ],
   "source": [
    "params = {\n",
    "        'sentences':documents,\n",
    "        'size': 50,\n",
    "        'window': 5,\n",
    "        'min_count': 1,\n",
    "        'iter': 100,\n",
    "        'sg': 1,\n",
    "        'workers': 4\n",
    "    }\n",
    "\n",
    "word2vec = Word2Vec(**params)\n",
    "word2vec.wv.vocab"
   ]
  },
  {
   "cell_type": "code",
   "execution_count": 37,
   "metadata": {},
   "outputs": [
    {
     "name": "stderr",
     "output_type": "stream",
     "text": [
      "/home/juanluis/anaconda3/envs/jupyter/lib/python3.7/site-packages/ipykernel_launcher.py:1: DeprecationWarning: Call to deprecated `most_similar` (Method will be removed in 4.0.0, use self.wv.most_similar() instead).\n",
      "  \"\"\"Entry point for launching an IPython kernel.\n"
     ]
    },
    {
     "data": {
      "text/plain": [
       "[('líquido', 0.7689706683158875),\n",
       " ('piña', 0.764967679977417),\n",
       " ('jugo', 0.7646282315254211),\n",
       " ('tropical', 0.762183427810669),\n",
       " ('naranja', 0.7567038536071777)]"
      ]
     },
     "execution_count": 37,
     "metadata": {},
     "output_type": "execute_result"
    }
   ],
   "source": [
    "word2vec.most_similar(positive=['zumo'], topn=5)"
   ]
  },
  {
   "cell_type": "code",
   "execution_count": null,
   "metadata": {},
   "outputs": [],
   "source": []
  }
 ],
 "metadata": {
  "kernelspec": {
   "display_name": "jupyter",
   "language": "python",
   "name": "jupyter"
  },
  "language_info": {
   "codemirror_mode": {
    "name": "ipython",
    "version": 3
   },
   "file_extension": ".py",
   "mimetype": "text/x-python",
   "name": "python",
   "nbconvert_exporter": "python",
   "pygments_lexer": "ipython3",
   "version": "3.7.9"
  }
 },
 "nbformat": 4,
 "nbformat_minor": 4
}
